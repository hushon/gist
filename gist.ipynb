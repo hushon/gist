{
 "cells": [
  {
   "cell_type": "markdown",
   "metadata": {},
   "source": [
    "Download File over HTTP"
   ]
  },
  {
   "cell_type": "code",
   "execution_count": null,
   "metadata": {},
   "outputs": [],
   "source": [
    "from tqdm import tqdm\n",
    "import requests\n",
    "\n",
    "def download_file(url, filename):\n",
    "    chunk_size = 1024\n",
    "    r = requests.get(url, stream = True)\n",
    "\n",
    "    total_size = int(r.headers['content-length'])\n",
    "    with open(filename, 'wb') as f:\n",
    "        for data in tqdm(iterable = \n",
    "                        r.iter_content(chunk_size = chunk_size), \n",
    "                        total = total_size/chunk_size, \n",
    "                        unit = 'KB'):\n",
    "            f.write(data)\n",
    "    return True"
   ]
  },
  {
   "cell_type": "markdown",
   "metadata": {},
   "source": [
    "Open FileDialog"
   ]
  },
  {
   "cell_type": "code",
   "execution_count": null,
   "metadata": {},
   "outputs": [],
   "source": [
    "import os\n",
    "from tkinter import Tk, filedialog\n",
    "\n",
    "def select_file():\n",
    "    root = Tk()\n",
    "    filepath = filedialog.askopenfilename(title='Select file', filetypes = ((\"all files\",\"*.*\")))\n",
    "    filepath = os.path.normpath(filepath)\n",
    "    root.withdraw()\n",
    "    return filepath"
   ]
  },
  {
   "cell_type": "markdown",
   "metadata": {},
   "source": [
    "Load JSON"
   ]
  },
  {
   "cell_type": "code",
   "execution_count": null,
   "metadata": {},
   "outputs": [],
   "source": [
    "import ndjson\n",
    "\n",
    "with open(target_path, \"r\", encoding=\"UTF8\") as file:\n",
    "    data = ndjson.load(file)"
   ]
  }
 ],
 "metadata": {
  "language_info": {
   "codemirror_mode": {
    "name": "ipython",
    "version": 3
   },
   "file_extension": ".py",
   "mimetype": "text/x-python",
   "name": "python",
   "nbconvert_exporter": "python",
   "pygments_lexer": "ipython3",
   "version": 3
  },
  "orig_nbformat": 2
 },
 "nbformat": 4,
 "nbformat_minor": 2
}